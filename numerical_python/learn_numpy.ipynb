{
 "cells": [
  {
   "cell_type": "markdown",
   "metadata": {},
   "source": [
    "### Python创建二维数组的方法"
   ]
  },
  {
   "cell_type": "code",
   "execution_count": 39,
   "metadata": {},
   "outputs": [
    {
     "name": "stdout",
     "output_type": "stream",
     "text": [
      "[0, 0, 0, 0]\n",
      "[0, 1, 0, 0]\n",
      "[0, 0, 0, 0]\n",
      "\n",
      "[0, 0, 0, 0, 0]\n",
      "[0, 0, 2, 0, 0]\n",
      "[0, 0, 0, 0, 0]\n"
     ]
    }
   ],
   "source": [
    "def createArray2D(height, width):\n",
    "    \"\"\"创建全零矩阵\"\"\"\n",
    "    arr = []\n",
    "    for y in range(height):\n",
    "        line = []\n",
    "        for x in range(width):\n",
    "            line.append(0)\n",
    "        arr.append(line)\n",
    "    return arr\n",
    "\n",
    "def printArr(arr):\n",
    "    for line in arr:\n",
    "        print(line)\n",
    "\n",
    "arr1 = createArray2D(3, 4)\n",
    "arr1[1][1] = 1\n",
    "printArr(arr1)\n",
    "\n",
    "# 列表推导式方法\n",
    "def createArray2D(height, width):\n",
    "    return [[0] * width for _ in range(height)]\n",
    "\n",
    "print()\n",
    "arr2 = createArray2D(3, 5)\n",
    "arr2[1][2] = 2\n",
    "printArr(arr2)\n",
    "            "
   ]
  },
  {
   "cell_type": "markdown",
   "metadata": {},
   "source": [
    "### Numpy\n",
    "> [链接](https://www.bilibili.com/video/BV1Ex411L7oT?p=1&vd_source=0bb6a3842751dc77c557a48dba0ca395)"
   ]
  },
  {
   "cell_type": "code",
   "execution_count": 4,
   "metadata": {},
   "outputs": [
    {
     "name": "stdout",
     "output_type": "stream",
     "text": [
      "[[1 2 3]\n",
      " [2 3 4]]\n"
     ]
    }
   ],
   "source": [
    "import numpy as np\n",
    "\n",
    "array = np.array([[1, 2, 3],\n",
    "                  [2, 3, 4]])\n",
    "\n",
    "print(array)"
   ]
  },
  {
   "cell_type": "code",
   "execution_count": 5,
   "metadata": {},
   "outputs": [
    {
     "name": "stdout",
     "output_type": "stream",
     "text": [
      "number of dim: 2\n",
      "shape:  (2, 3)\n",
      "size:  6\n"
     ]
    }
   ],
   "source": [
    "print(\"number of dim:\", array.ndim)\n",
    "print('shape: ', array.shape)\n",
    "print('size: ', array.size)"
   ]
  },
  {
   "cell_type": "code",
   "execution_count": 9,
   "metadata": {},
   "outputs": [
    {
     "name": "stdout",
     "output_type": "stream",
     "text": [
      "int32\n"
     ]
    }
   ],
   "source": [
    "a = np.array([2, 3, 4], dtype=np.int32)\n",
    "print(a.dtype)"
   ]
  },
  {
   "cell_type": "code",
   "execution_count": 21,
   "metadata": {},
   "outputs": [
    {
     "name": "stdout",
     "output_type": "stream",
     "text": [
      "[[0 0 0 0]\n",
      " [0 0 0 0]\n",
      " [0 0 0 0]]\n"
     ]
    }
   ],
   "source": [
    "a = np.zeros((3, 4), dtype=np.int32)\n",
    "print(a)"
   ]
  },
  {
   "cell_type": "code",
   "execution_count": 22,
   "metadata": {},
   "outputs": [
    {
     "name": "stdout",
     "output_type": "stream",
     "text": [
      "[[1 1 1 1]\n",
      " [1 1 1 1]\n",
      " [1 1 1 1]]\n"
     ]
    }
   ],
   "source": [
    "a = np.ones((3, 4), dtype=np.int16)\n",
    "print(a)"
   ]
  },
  {
   "cell_type": "code",
   "execution_count": 23,
   "metadata": {},
   "outputs": [
    {
     "name": "stdout",
     "output_type": "stream",
     "text": [
      "[[0. 0. 0. 0.]\n",
      " [0. 0. 0. 0.]\n",
      " [0. 0. 0. 0.]]\n"
     ]
    }
   ],
   "source": [
    "a = np.empty((3, 4))\n",
    "print(a)"
   ]
  },
  {
   "cell_type": "code",
   "execution_count": 28,
   "metadata": {},
   "outputs": [
    {
     "name": "stdout",
     "output_type": "stream",
     "text": [
      "[10 12 14 16 18]\n"
     ]
    }
   ],
   "source": [
    "a = np.arange(10, 20, 2)\n",
    "print(a)"
   ]
  },
  {
   "cell_type": "code",
   "execution_count": 37,
   "metadata": {},
   "outputs": [
    {
     "name": "stdout",
     "output_type": "stream",
     "text": [
      "[ 0  1  2  3  4  5  6  7  8  9 10 11]\n",
      "[[ 0  1  2  3]\n",
      " [ 4  5  6  7]\n",
      " [ 8  9 10 11]]\n"
     ]
    }
   ],
   "source": [
    "a = np.arange(12)\n",
    "print(a)\n",
    "print(a.reshape((3, 4)))  # 不会改变a"
   ]
  },
  {
   "cell_type": "code",
   "execution_count": 41,
   "metadata": {},
   "outputs": [
    {
     "name": "stdout",
     "output_type": "stream",
     "text": [
      "[ 1.    3.25  5.5   7.75 10.  ]\n"
     ]
    }
   ],
   "source": [
    "a = np.linspace(1, 10, 5)  # 生成从1-10的五段数据\n",
    "print(a)"
   ]
  },
  {
   "cell_type": "markdown",
   "metadata": {},
   "source": [
    "### Numpy基础运算"
   ]
  },
  {
   "cell_type": "code",
   "execution_count": 55,
   "metadata": {},
   "outputs": [
    {
     "name": "stdout",
     "output_type": "stream",
     "text": [
      "[10 20 30 40] [0 1 2 3]\n",
      "[10 21 32 43]\n",
      "[  0  20  60 120]\n",
      "[0 1 4 9]\n",
      "[-0.54402111  0.91294525 -0.98803162  0.74511316]\n",
      "[ True  True  True False]\n",
      "[[2 4]\n",
      " [2 3]]\n",
      "[[2 4]\n",
      " [2 3]]\n",
      "[[2 4]\n",
      " [2 3]]\n",
      "[[0.16841603 0.21040423 0.95323101 0.87861118]\n",
      " [0.15174724 0.43903489 0.44102028 0.72766937]]\n",
      "3.9701342240306703\n",
      "0.9532310122201457\n",
      "0.15174723850706684\n",
      "[0.32016326 0.64943912 1.39425129 1.60628055]\n",
      "[2.21066245 1.75947178]\n"
     ]
    }
   ],
   "source": [
    "import numpy as np\n",
    "a = np.array([10, 20, 30, 40])\n",
    "b = np.arange(4)\n",
    "print(a, b)\n",
    "print(a + b)\n",
    "print(a * b)\n",
    "print(b ** 2)  # 对应元素相乘，非点乘\n",
    "print(np.sin(a))  # a为单位为弧度10对应10*180/pi度\n",
    "print(b < 3)\n",
    "\n",
    "m1 = np.array([[1, 1],\n",
    "               [0, 1]])\n",
    "m2 = b.reshape((2, 2))\n",
    "print(np.dot(m1, m2))\n",
    "print(m1.dot(m2))\n",
    "print(m1 @ m2)\n",
    "\n",
    "n1 = np.random.random((2, 4))  # 0-1\n",
    "print(n1)\n",
    "print(np.sum(n1))\n",
    "print(np.max(n1))\n",
    "print(np.min(n1))\n",
    "print(np.sum(n1, axis=0))  # 行相加求和，对某个维度求和，保留其他维度\n",
    "print(np.sum(n1, axis=1))  # 列相加求和\n"
   ]
  },
  {
   "cell_type": "markdown",
   "metadata": {},
   "source": [
    "### Numpy基础运算2"
   ]
  },
  {
   "cell_type": "code",
   "execution_count": 26,
   "metadata": {},
   "outputs": [
    {
     "name": "stdout",
     "output_type": "stream",
     "text": [
      "[[ 2  3  4  5]\n",
      " [ 6 15  8  9]\n",
      " [10 11 12 13]]\n",
      "0\n",
      "5\n",
      "8.166666666666666\n",
      "8.166666666666666\n",
      "8.5\n",
      "16.13888888888889\n",
      "4.017323597731316\n",
      "(array([0, 0, 0, 0, 1, 1, 1, 1, 2, 2, 2, 2], dtype=int64), array([0, 1, 2, 3, 0, 1, 2, 3, 0, 1, 2, 3], dtype=int64))\n",
      "[[ 2  6 10]\n",
      " [ 3 15 11]\n",
      " [ 4  8 12]\n",
      " [ 5  9 13]]\n",
      "[[ 2  6 10]\n",
      " [ 3 15 11]\n",
      " [ 4  8 12]\n",
      " [ 5  9 13]]\n",
      "[[5 5 5 5]\n",
      " [6 9 8 9]\n",
      " [9 9 9 9]]\n",
      "[[14 13 12 11]\n",
      " [10  9  8  7]\n",
      " [ 6  5  4  3]]\n",
      "[[11 12 13 14]\n",
      " [ 7  8  9 10]\n",
      " [ 3  4  5  6]]\n"
     ]
    }
   ],
   "source": [
    "import numpy as np\n",
    "\n",
    "A = np.arange(2, 14).reshape(3, 4)\n",
    "A[1][1] = 15\n",
    "print(A)\n",
    "print(np.argmin(A))  # 打印最小值索引\n",
    "print(np.argmax(A))  # 最大值索引\n",
    "print(np.mean(A))  # 均值\n",
    "print(np.average(A))\n",
    "print(np.median(A))  # 中位数\n",
    "print(np.var(A))  # 方差\n",
    "print(np.std(A))  # 标准差\n",
    "print(np.nonzero(A))  # 输出非零数的各个维度的索引\n",
    "\n",
    "print(np.transpose(A))  # 转置\n",
    "print(A.T)\n",
    "print(np.clip(A, 5, 9))  # 小于a_min置为a_min，大于a_max置为a_max，其余不变\n",
    "\n",
    "A2 = np.arange(14, 2, -1).reshape(3, 4)\n",
    "print(A2)\n",
    "print(np.sort(A2))"
   ]
  },
  {
   "cell_type": "markdown",
   "metadata": {},
   "source": [
    "### numpy 索引"
   ]
  },
  {
   "cell_type": "code",
   "execution_count": 47,
   "metadata": {},
   "outputs": [
    {
     "name": "stdout",
     "output_type": "stream",
     "text": [
      "[ 3  4  5  6  7  8  9 10 11 12 13 14]\n",
      "6\n",
      "[[ 3  4  5  6]\n",
      " [ 7  8  9 10]\n",
      " [11 12 13 14]]\n",
      "[11 12 13 14]\n",
      "[11 12 13 14]\n",
      "[ 4  8 12]\n",
      "8\n",
      "8\n",
      "[4 5]\n",
      "[3 4 5 6]\n",
      "[ 7  8  9 10]\n",
      "[11 12 13 14]\n",
      "[ 3  7 11]\n",
      "[ 4  8 12]\n",
      "[ 5  9 13]\n",
      "[ 6 10 14]\n",
      "[3, 4, 5, 6, 7, 8, 9, 10, 11, 12, 13, 14]\n",
      "[ 3  4  5  6  7  8  9 10 11 12 13 14]\n",
      "[ 3  4  5  6  7  8  9 10 11 12 13 14]\n",
      "3 4 5 6 7 8 9 10 11 12 13 14 "
     ]
    }
   ],
   "source": [
    "import numpy as np\n",
    "\n",
    "A = np.arange(3, 15)\n",
    "print(A)\n",
    "print(A[3])\n",
    "B = A.reshape((3, 4))\n",
    "print(B)\n",
    "print(B[2])\n",
    "print(B[2, :])  # 第3行\n",
    "print(B[:, 1])  # 第2列\n",
    "print(B[1][1])\n",
    "print(B[1, 1])\n",
    "print(B[0, 1:3])\n",
    "\n",
    "for row in B:  # 迭代每一行\n",
    "    print(row)\n",
    "for column in B.T:  # 迭代每一列\n",
    "    print(column)\n",
    "    \n",
    "print(list(B.flat))\n",
    "print(B.flatten())\n",
    "print(B.reshape(-1))\n",
    "for item in B.flat:\n",
    "    print(item, end=' ')  # 迭代每个元素"
   ]
  },
  {
   "cell_type": "markdown",
   "metadata": {},
   "source": [
    "### numpy array合并"
   ]
  },
  {
   "cell_type": "code",
   "execution_count": 24,
   "metadata": {},
   "outputs": [
    {
     "name": "stdout",
     "output_type": "stream",
     "text": [
      "(2, 3) (6,)\n",
      "[[1 1 1]\n",
      " [2 2 2]]\n",
      "[1 1 1 2 2 2]\n",
      "[[1]\n",
      " [1]\n",
      " [1]]\n",
      "[[1]\n",
      " [1]\n",
      " [1]]\n",
      "[[1]\n",
      " [1]\n",
      " [1]]\n",
      "[[1 2 1]\n",
      " [1 2 1]\n",
      " [1 2 1]]\n",
      "[[1]\n",
      " [1]\n",
      " [1]\n",
      " [2]\n",
      " [2]\n",
      " [2]\n",
      " [1]\n",
      " [1]\n",
      " [1]]\n",
      "[[1 2 1]\n",
      " [1 2 1]\n",
      " [1 2 1]]\n",
      "3\n"
     ]
    }
   ],
   "source": [
    "import numpy as np\n",
    "\n",
    "A = np.array([1, 1, 1])\n",
    "B = np.array([2, 2, 2])\n",
    "\n",
    "V = np.vstack((A, B))  # vertical stack\n",
    "H = np.hstack((A,B))  # horizontal stack\n",
    "\n",
    "print(V.shape, H.shape)\n",
    "print(V)\n",
    "print(H)\n",
    "\n",
    "# 行向量变列向量\n",
    "# print(A.reshape((A.size, 1))\n",
    "print(A.reshape((A.size, 1)))\n",
    "print(A[:, np.newaxis])\n",
    "print(np.mat(A).T)\n",
    "\n",
    "# 合并列向量\n",
    "X_1 = np.array([1, 1, 1])[:, np.newaxis]\n",
    "X_2 = np.array([2, 2, 2])[:, np.newaxis]\n",
    "\n",
    "X = np.hstack((X_1, X_2, X_1))\n",
    "print(X)\n",
    "\n",
    "# np.concatenate()\n",
    "C_0 = np.concatenate((X_1, X_2, X_1), axis=0)\n",
    "print(C_0)\n",
    "C_1 = np.concatenate((X_1, X_2, X_1), axis=1)\n",
    "print(C_1)\n",
    "# 给样本添加偏置项 X_data = np.concatenate((X_data,np.ones((1,X_data.shape[1]))), axis=0)"
   ]
  },
  {
   "cell_type": "markdown",
   "metadata": {},
   "source": [
    "### numpy array 分割"
   ]
  },
  {
   "cell_type": "code",
   "execution_count": 35,
   "metadata": {},
   "outputs": [
    {
     "name": "stdout",
     "output_type": "stream",
     "text": [
      "[[ 0  1  2  3]\n",
      " [ 4  5  6  7]\n",
      " [ 8  9 10 11]]\n",
      "[array([[0, 1, 2, 3]]), array([[4, 5, 6, 7]]), array([[ 8,  9, 10, 11]])]\n",
      "[array([[0, 1],\n",
      "       [4, 5],\n",
      "       [8, 9]]), array([[ 2,  3],\n",
      "       [ 6,  7],\n",
      "       [10, 11]])]\n",
      "[array([[0, 1, 2, 3]]), array([[4, 5, 6, 7]]), array([[ 8,  9, 10, 11]])]\n",
      "[array([[0, 1],\n",
      "       [4, 5],\n",
      "       [8, 9]]), array([[ 2,  3],\n",
      "       [ 6,  7],\n",
      "       [10, 11]])]\n",
      "[array([[0, 1],\n",
      "       [4, 5],\n",
      "       [8, 9]]), array([[ 2],\n",
      "       [ 6],\n",
      "       [10]]), array([[ 3],\n",
      "       [ 7],\n",
      "       [11]])]\n"
     ]
    }
   ],
   "source": [
    "import numpy as np\n",
    "\n",
    "A = np.arange(12).reshape((3, 4))\n",
    "print(A)\n",
    "\n",
    "print(np.split(A, 3, axis=0))  # 第0个维度即(3,4)分为3个(1,4)\n",
    "print(np.split(A, 2, axis=1))  # 第1个维度即(3,4)分为2个(3,2)\n",
    "\n",
    "print(np.vsplit(A, 3))\n",
    "print(np.hsplit(A, 2))\n",
    "\n",
    "# 不等分割\n",
    "print(np.array_split(A, 3, axis=1))"
   ]
  },
  {
   "cell_type": "markdown",
   "metadata": {},
   "source": [
    "### numpy copy & deep copy"
   ]
  },
  {
   "cell_type": "code",
   "execution_count": 16,
   "metadata": {},
   "outputs": [
    {
     "name": "stdout",
     "output_type": "stream",
     "text": [
      "[0 1 2 3]\n",
      "[11  1  2  3]\n",
      "[11  1  2  3]\n",
      "True\n",
      "[11  1  2  3]\n",
      "[11  1  2  3]\n",
      "True\n",
      "[11 22 33  3]\n",
      "[11 22 33  3]\n",
      "[0 1 2 3]\n",
      "[11  1  2  3]\n"
     ]
    }
   ],
   "source": [
    "import numpy as np\n",
    "\n",
    "a = np.arange(4)\n",
    "print(a)\n",
    "b = a\n",
    "c = a\n",
    "d = b\n",
    "\n",
    "a[0] = 11\n",
    "print(a)\n",
    "print(b)\n",
    "print(b is a)\n",
    "print(c)\n",
    "print(d)\n",
    "print(d is a)\n",
    "\n",
    "d[1:3] = [22, 33]\n",
    "print(d)\n",
    "print(a)\n",
    "\n",
    "a = np.arange(4)\n",
    "b = a.copy()  # deep copy 与python中.copy()浅拷贝不同，.deepcopy()才为深拷贝\n",
    "c = a[:]  # np中为浅拷贝，python中为副本(深拷贝)\n",
    "a[0] = 11\n",
    "print(b)\n",
    "print(c)"
   ]
  },
  {
   "cell_type": "code",
   "execution_count": null,
   "metadata": {},
   "outputs": [],
   "source": []
  }
 ],
 "metadata": {
  "kernelspec": {
   "display_name": "Python 3 (ipykernel)",
   "language": "python",
   "name": "python3"
  },
  "language_info": {
   "codemirror_mode": {
    "name": "ipython",
    "version": 3
   },
   "file_extension": ".py",
   "mimetype": "text/x-python",
   "name": "python",
   "nbconvert_exporter": "python",
   "pygments_lexer": "ipython3",
   "version": "3.8.13"
  }
 },
 "nbformat": 4,
 "nbformat_minor": 4
}
